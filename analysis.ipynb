{
  "cells": [
    {
      "cell_type": "markdown",
      "metadata": {},
      "source": [
        "# Sales Performance Dashboard\n",
        "This notebook performs basic exploratory analysis on the Superstore dataset.\n",
        "Put `Superstore.csv` into the `data/` folder before running."
      ]
    },
    {
      "cell_type": "code",
      "execution_count": 4,
      "metadata": {},
      "outputs": [
        {
          "name": "stdout",
          "output_type": "stream",
          "text": [
            "Rows, columns: (9994, 21)\n",
            "\n",
            "Sales by Region:\n"
          ]
        },
        {
          "data": {
            "text/plain": [
              "Region\n",
              "West       725457.8245\n",
              "East       678781.2400\n",
              "Central    501239.8908\n",
              "South      391721.9050\n",
              "Name: Sales, dtype: float64"
            ]
          },
          "metadata": {},
          "output_type": "display_data"
        },
        {
          "data": {
            "image/png": "[encoded data removed]",
            "text/plain": [
              "<Figure size 640x480 with 1 Axes>"
            ]
          },
          "metadata": {},
          "output_type": "display_data"
        },
        {
          "name": "stdout",
          "output_type": "stream",
          "text": [
            "\n",
            "Top 10 Products by Sales:\n"
          ]
        },
        {
          "data": {
            "text/plain": [
              "Product Name\n",
              "Canon imageCLASS 2200 Advanced Copier                                          61599.824\n",
              "Fellowes PB500 Electric Punch Plastic Comb Binding Machine with Manual Bind    27453.384\n",
              "Cisco TelePresence System EX90 Videoconferencing Unit                          22638.480\n",
              "HON 5400 Series Task Chairs for Big and Tall                                   21870.576\n",
              "GBC DocuBind TL300 Electric Binding System                                     19823.479\n",
              "GBC Ibimaster 500 Manual ProClick Binding System                               19024.500\n",
              "Hewlett Packard LaserJet 3310 Copier                                           18839.686\n",
              "HP Designjet T520 Inkjet Large Format Printer - 24\" Color                      18374.895\n",
              "GBC DocuBind P400 Electric Binding System                                      17965.068\n",
              "High Speed Automatic Electric Letter Opener                                    17030.312\n",
              "Name: Sales, dtype: float64"
            ]
          },
          "metadata": {},
          "output_type": "display_data"
        },
        {
          "name": "stdout",
          "output_type": "stream",
          "text": [
            "\n",
            "Top 10 Customers by Revenue:\n"
          ]
        },
        {
          "data": {
            "text/plain": [
              "Customer Name\n",
              "Sean Miller           25043.050\n",
              "Tamara Chand          19052.218\n",
              "Raymond Buch          15117.339\n",
              "Tom Ashbrook          14595.620\n",
              "Adrian Barton         14473.571\n",
              "Ken Lonsdale          14175.229\n",
              "Sanjit Chand          14142.334\n",
              "Hunter Lopez          12873.298\n",
              "Sanjit Engle          12209.438\n",
              "Christopher Conant    12129.072\n",
              "Name: Sales, dtype: float64"
            ]
          },
          "metadata": {},
          "output_type": "display_data"
        }
      ],
      "source": [
        "import pandas as pd\n",
        "import matplotlib.pyplot as plt\n",
        "\n",
        "# Load dataset\n",
        "df = pd.read_csv('data/Sample - Superstore.csv', encoding='latin1', low_memory=False)\n",
        "\n",
        "# Quick look\n",
        "print('Rows, columns:', df.shape)\n",
        "df.head()\n",
        "\n",
        "# Clean: drop exact duplicate rows\n",
        "df = df.drop_duplicates()\n",
        "\n",
        "# Convert Order Date to datetime (if column exists)\n",
        "if 'Order Date' in df.columns:\n",
        "    df['Order Date'] = pd.to_datetime(df['Order Date'])\n",
        "\n",
        "# Sales by Region\n",
        "if 'Region' in df.columns and 'Sales' in df.columns:\n",
        "    region_sales = df.groupby('Region')['Sales'].sum().sort_values(ascending=False)\n",
        "    print('\\nSales by Region:')\n",
        "    display(region_sales)\n",
        "    region_sales.plot(kind='bar');\n",
        "    plt.title('Total Sales by Region');\n",
        "    plt.tight_layout();\n",
        "    plt.show()\n",
        "\n",
        "# Top products by sales\n",
        "if 'Product Name' in df.columns:\n",
        "    top_products = df.groupby('Product Name')['Sales'].sum().sort_values(ascending=False).head(10)\n",
        "    print('\\nTop 10 Products by Sales:')\n",
        "    display(top_products)\n",
        "\n",
        "# Top customers by revenue\n",
        "if 'Customer Name' in df.columns:\n",
        "    top_customers = df.groupby('Customer Name')['Sales'].sum().sort_values(ascending=False).head(10)\n",
        "    print('\\nTop 10 Customers by Revenue:')\n",
        "    display(top_customers)\n"
      ]
    }
  ],
  "metadata": {
    "kernelspec": {
      "display_name": "base",
      "language": "python",
      "name": "python3"
    },
    "language_info": {
      "codemirror_mode": {
        "name": "ipython",
        "version": 3
      },
      "file_extension": ".py",
      "mimetype": "text/x-python",
      "name": "python",
      "nbconvert_exporter": "python",
      "pygments_lexer": "ipython3",
      "version": "3.13.2"
    }
  },
  "nbformat": 4,
  "nbformat_minor": 5
}
